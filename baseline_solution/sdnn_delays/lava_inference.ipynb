{
 "cells": [
  {
   "cell_type": "markdown",
   "metadata": {},
   "source": [
    "# Intel N-DNS baseline inference using Lava\n",
    "\n",
    "This is an example notebook demonstraring the inference of baseline Intel N-DNS network using lava. A baseline network for the challenge is proided with this repository here: `baseline_solution/sdnn_delays`. The lava processes and their interconnections to realize the baseline solution is shown below\n",
    "\n",
    "![](https://user-images.githubusercontent.com/29907126/214492346-611b6adb-2aa1-4fac-936f-c22cc6fc1a47.png)\n",
    "\n",
    "\n",
    "The baseline solution follows the challenge solution structure of\n",
    "* Audio Source\n",
    "* Encoder\n",
    "* N-DNS network\n",
    "* Decoder\n",
    "* Audio Receiver\n",
    "\n",
    "<!-- * **Encoder:** The encoder is a straightforward STFT transform of the noisy audio waveform followed by delta encoding of the STFT magnitude. The default STFT transform uses a window length of 512 with a hop length of 128, leading to 8ms per time-step. These parameters are user changeable. The delta encoding sparsifies the STFT magnitude which is then fed to the Neuromorphic DNS network.\n",
    "* **N-DNS:** The neuromorphic DNS network is a three layer feedforward sigma-delta ReLU network with axonal delays. The sigma-delta layer efficiently performs denoising in the sparse domain. The axonal delays provide the network with short term memory which can be used to incorporate previous temporal patterns during denoising. The maximum value of axonal delays can be set by the user. It can even be set to 0 which means there is no axonal delay in the N-DNS network. The N-DNS network predicts a multiplicative mask at some delay which is then used to mask the STFT Magnitude. The prediction delay can also be changed, even set to zero, during training. The STFT phase and magnitude from the encoder need to be delayed accordingly during the decoding phase.\n",
    "* **Decoder** The decoder combines the multiplicative mask predicted by the N-DNS network with the delayed STFT phase and magnitude of the noisy audio signal and performs inverse STFT with the same _window length_ and _hop length_ as the encoder. The resulting output is the clean reconstruction (denoised) audio waveform. -->"
   ]
  },
  {
   "cell_type": "code",
   "execution_count": 1,
   "metadata": {},
   "outputs": [],
   "source": [
    "import yaml\n",
    "import numpy as np\n",
    "import matplotlib.pyplot as plt\n",
    "\n",
    "from lava.magma.core.run_configs import Loihi2HwCfg, Loihi2SimCfg\n",
    "from lava.magma.core.run_conditions import RunSteps\n",
    "\n",
    "from audio_dataloader import DNSAudio\n",
    "from snr import si_snr\n",
    "\n",
    "from lava.magma.core.process.ports.ports import InPort, OutPort\n",
    "from lava.magma.core.process.process import AbstractProcess\n",
    "from lava.magma.core.run_configs import Loihi2HwCfg, Loihi2SimCfg\n",
    "from lava.magma.core.run_conditions import RunSteps\n",
    "\n",
    "from lava.lib.dl import netx\n",
    "\n",
    "from lava_utils import (\n",
    "    AudioSource, AudioReceiver,\n",
    "    Encoder, Decoder,\n",
    "    DelayBuffer,\n",
    "    FloatPtAmp, FixedPtAmp, Bias, AmplitudeMixer\n",
    ")"
   ]
  },
  {
   "cell_type": "markdown",
   "metadata": {},
   "source": [
    "## Load the parameters of the trained network"
   ]
  },
  {
   "cell_type": "code",
   "execution_count": 2,
   "metadata": {},
   "outputs": [],
   "source": [
    "# trained_folder = 'Trained'\n",
    "\n",
    "# 'Trained' is the full baseline network with axonal delay which yields SI-SNR of 12.50 dB.\n",
    "# Axonal delay is not currently supported in lava. It will be updated once the underlying support is ready\n",
    "# 'Trained_nodelay' is the trained network without axonal delay. This network has decreased SI-SNR of 11.47 dB\n",
    "# We will use this network in the meantime while the underlying support for axonal delay is enabled.\n",
    "\n",
    "trained_folder = 'Trained_nodelay'\n",
    "args = yaml.safe_load(open(trained_folder + '/args.txt', 'rt'))\n",
    "if 'out_delay' not in args.keys():\n",
    "    args['out_delay'] = 0\n",
    "if 'n_fft' not in args.keys():\n",
    "    args['n_fft'] = 512\n",
    "root = args['path']\n",
    "out_delay = args['out_delay']\n",
    "n_fft = args['n_fft']\n",
    "win_length = n_fft\n",
    "hop_length = n_fft // 4\n",
    "stft_mean = 0.2\n",
    "blank_time = 10\n",
    "num_samples = 5"
   ]
  },
  {
   "cell_type": "markdown",
   "metadata": {},
   "source": [
    "## Create Lava instance of N-DNS network\n",
    "\n",
    "Since the baseline network was trained using lava-dl, the trained network gets exported as a `network.net` artifact which can be easily consumed by lava-dl NetX moudle to create a lava process representing the network.\n",
    "\n",
    "<p align=\"center\">\n",
    "<img src=\"https://user-images.githubusercontent.com/29907126/214492443-fa3b3dce-1fdc-49cb-99f8-854aa3dfc84a.png\" alt=\"Drawing\" style=\"max-height: 300px;\"/>\n",
    "</p>\n"
   ]
  },
  {
   "cell_type": "code",
   "execution_count": 3,
   "metadata": {},
   "outputs": [],
   "source": [
    "net = netx.hdf5.Network(trained_folder + '/network.net')"
   ]
  },
  {
   "cell_type": "markdown",
   "metadata": {},
   "source": [
    "## Create Encoder\n",
    "\n",
    "The encoder takes the noisy audio sequence and applies STFT to the sequence. The encoder is also responsible for data preprocessing of mean normalization of the STFT magnitude and scaling the floating point value to fixed point representation which is then fed to the N-DNS network.\n",
    "\n",
    "<p align=\"center\">\n",
    "<img src=\"https://user-images.githubusercontent.com/29907126/214492521-eee98587-e229-4cdd-8c13-3278c5fc4d24.png\" alt=\"Drawing\" style=\"max-height: 300px;\"/>\n",
    "</p>\n"
   ]
  },
  {
   "cell_type": "code",
   "execution_count": 4,
   "metadata": {},
   "outputs": [],
   "source": [
    "encoder = Encoder(n_fft=n_fft, hop_length=hop_length, bias=-stft_mean, gain=1 << 6)"
   ]
  },
  {
   "cell_type": "markdown",
   "metadata": {},
   "source": [
    "## Create Decoder\n",
    "\n",
    "The decoder takes the N-DNS network's raw output, rescales the fixed point representation of the network, interpretes the multiplicative mask, applies it to the STFT magnitue. The masked STFT magnitude is then combined with the initial STFT phase using an ISTFT module which produces the denoised auio stream.\n",
    "\n",
    "<p align=\"center\">\n",
    "<img src=\"https://user-images.githubusercontent.com/29907126/214492627-9ac89a13-c537-4ef5-b9b4-bd910258815a.png\" alt=\"Drawing\" style=\"max-height: 300px;\"/>\n",
    "</p>\n"
   ]
  },
  {
   "cell_type": "code",
   "execution_count": 5,
   "metadata": {},
   "outputs": [],
   "source": [
    "decoder = Decoder(n_fft=n_fft, hop_length=hop_length, gain=1 / (1 << 18))"
   ]
  },
  {
   "cell_type": "markdown",
   "metadata": {},
   "source": [
    "## Create audio source and audio receivers\n",
    "\n",
    "Create an audio source for the Intel N-DNS dataset and a receiver to collect the denoised audio from the N-DNS network. The audio receiver collects the audio and evaluates the SI-SNR metric for each samples. In addition, we also create a noisy audio receiver which serves as the baseline SI-SNR before denoising for comparison.\n",
    "\n",
    "<p align=\"center\">\n",
    "<img src=\"https://user-images.githubusercontent.com/29907126/214480207-9306b935-a5d6-4d83-925b-b137fe754dc6.png\" alt=\"Drawing\" style=\"max-height: 300px;\"/>\n",
    "</p>\n"
   ]
  },
  {
   "cell_type": "code",
   "execution_count": 6,
   "metadata": {},
   "outputs": [],
   "source": [
    "# train_set = DNSAudio(root=root + 'training_set/')\n",
    "validation_set = DNSAudio(root=root + 'validation_set/')\n",
    "noisy, clean, noise, metadata = validation_set[0]\n",
    "\n",
    "audio_source = AudioSource(validation_set,\n",
    "                           hop_length=hop_length,\n",
    "                           interval=len(noisy) // hop_length + blank_time,\n",
    "                           sample_idx=0)\n",
    "denoised_receiver = AudioReceiver(hop_length=hop_length,\n",
    "                                  num_samples=num_samples,\n",
    "                                  interval=len(noisy) // hop_length + blank_time)\n",
    "noisy_receiver = AudioReceiver(hop_length=hop_length,\n",
    "                               num_samples=denoised_receiver.num_samples,\n",
    "                               interval=len(noisy) // hop_length + blank_time)\n"
   ]
  },
  {
   "cell_type": "markdown",
   "metadata": {},
   "source": [
    "## Create Delay blocks\n",
    "\n",
    "The baseline solution needs delay units of 1 algorithmic timestep to synchronize the mangitude and phase calculation with the delay incurred by the N-DNS network."
   ]
  },
  {
   "cell_type": "code",
   "execution_count": 7,
   "metadata": {},
   "outputs": [],
   "source": [
    "abs_delay = DelayBuffer(shape=encoder.abs_out.shape, delay=1)\n",
    "arg_delay = DelayBuffer(shape=encoder.abs_out.shape, delay=1)\n",
    "clean_delay = DelayBuffer(shape=audio_source.clean_out.shape, delay=1)"
   ]
  },
  {
   "cell_type": "markdown",
   "metadata": {},
   "source": [
    "## Connect the processes"
   ]
  },
  {
   "cell_type": "code",
   "execution_count": 8,
   "metadata": {},
   "outputs": [],
   "source": [
    "audio_source.clean_out.connect(noisy_receiver.clean_inp)\n",
    "audio_source.noisy_out.connect(noisy_receiver.denoised_inp)\n",
    "\n",
    "encoder.enc_out.connect(net.in_layer.neuron.a_in)\n",
    "net.out.connect(decoder.dec_inp)\n",
    "\n",
    "encoder.abs_out.connect(abs_delay.inp)\n",
    "abs_delay.out.connect(decoder.abs_inp)\n",
    "encoder.arg_out.connect(arg_delay.inp)\n",
    "arg_delay.out.connect(decoder.arg_inp)\n",
    "\n",
    "audio_source.noisy_out.connect(encoder.audio_inp)\n",
    "audio_source.clean_out.connect(clean_delay.inp)\n",
    "clean_delay.out.connect(denoised_receiver.clean_inp)\n",
    "decoder.audio_out.connect(denoised_receiver.denoised_inp)"
   ]
  },
  {
   "cell_type": "markdown",
   "metadata": {},
   "source": [
    "## Run the network"
   ]
  },
  {
   "cell_type": "code",
   "execution_count": 9,
   "metadata": {},
   "outputs": [],
   "source": [
    "# Customizations to enable async execution of the process models\n",
    "from lava.magma.core.model.py.model import PyLoihiProcessModel, PyLoihiModelToPyAsyncModel\n",
    "class AsyncSimCfg(Loihi2SimCfg):\n",
    "    def __init__(self, **kwargs):\n",
    "        super().__init__(**kwargs)\n",
    "\n",
    "    def select(self, proc, proc_models):\n",
    "        pm = super().select(proc, proc_models)\n",
    "        if issubclass(pm, PyLoihiProcessModel):\n",
    "            return PyLoihiModelToPyAsyncModel(pm)\n",
    "        return pm\n",
    "run_config = AsyncSimCfg(select_tag='fixed_pt')"
   ]
  },
  {
   "cell_type": "code",
   "execution_count": 10,
   "metadata": {},
   "outputs": [
    {
     "name": "stdout",
     "output_type": "stream",
     "text": [
      "num_samples = 5\n",
      "num_steps = 18801\n"
     ]
    }
   ],
   "source": [
    "num_samples = denoised_receiver.num_samples\n",
    "num_steps = num_samples * (len(noisy) // hop_length + blank_time) + 1\n",
    "\n",
    "print(f'{num_samples = }')\n",
    "print(f'{num_steps = }')\n",
    "# run_config = Loihi2SimCfg(select_tag='fixed_pt')\n",
    "run_config = AsyncSimCfg(select_tag='fixed_pt')\n",
    "audio_source.run(condition=RunSteps(num_steps=num_steps), run_cfg=run_config)\n",
    "si_snrs = denoised_receiver.si_snr.get()\n",
    "base_si_snrs = noisy_receiver.si_snr.get()\n",
    "audio_source.stop()"
   ]
  },
  {
   "cell_type": "markdown",
   "metadata": {},
   "source": [
    "## Compare denoising results"
   ]
  },
  {
   "cell_type": "code",
   "execution_count": 11,
   "metadata": {
    "tags": []
   },
   "outputs": [
    {
     "data": {
      "text/plain": [
       "<matplotlib.legend.Legend at 0x7fbf429f1e20>"
      ]
     },
     "execution_count": 11,
     "metadata": {},
     "output_type": "execute_result"
    },
    {
     "data": {
      "image/png": "[encoded data removed]",
      "text/plain": [
       "<Figure size 640x480 with 1 Axes>"
      ]
     },
     "metadata": {},
     "output_type": "display_data"
    }
   ],
   "source": [
    "plt.plot(base_si_snrs, label='Noisy SI-SNR')\n",
    "plt.plot(si_snrs, label='Denoised SI-SNR')\n",
    "plt.xlabel('Sample ID')\n",
    "plt.ylabel('SI-SNR')\n",
    "plt.legend()"
   ]
  }
 ],
 "metadata": {
  "kernelspec": {
   "display_name": "Python 3 (ipykernel)",
   "language": "python",
   "name": "python3"
  },
  "language_info": {
   "codemirror_mode": {
    "name": "ipython",
    "version": 3
   },
   "file_extension": ".py",
   "mimetype": "text/x-python",
   "name": "python",
   "nbconvert_exporter": "python",
   "pygments_lexer": "ipython3",
   "version": "3.8.10"
  },
  "vscode": {
   "interpreter": {
    "hash": "4573c57cde5307fdb5e3ca299d1bd325b1658eb4bd7e45e2fe5570005780ace2"
   }
  }
 },
 "nbformat": 4,
 "nbformat_minor": 4
}
